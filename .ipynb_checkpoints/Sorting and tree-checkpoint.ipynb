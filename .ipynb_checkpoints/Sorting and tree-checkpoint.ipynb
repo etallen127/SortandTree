{
 "cells": [
  {
   "cell_type": "markdown",
   "metadata": {},
   "source": [
    "## Heap Sort, Selection Sort, QuickSort, 15 node tree"
   ]
  },
  {
   "cell_type": "code",
   "execution_count": 15,
   "metadata": {},
   "outputs": [
    {
     "name": "stdout",
     "output_type": "stream",
     "text": [
      "[-12, -2, 1, 2, 3, 3, 5, 6, 7, 24, 68, 75, 200]\n"
     ]
    }
   ],
   "source": [
    "# Heap Sort\n",
    "\n",
    "# function to move value \n",
    "def swap(i, j):                    \n",
    "    num_list[i], num_list[j] = num_list[j], num_list[i] \n",
    "\n",
    "def heapify(end,i):   \n",
    "    l=2 * i + 1  \n",
    "    r=2 * (i + 1)   \n",
    "    max=i   \n",
    "    if l < end and num_list[i] < num_list[l]:   \n",
    "        max = l   \n",
    "    if r < end and num_list[max] < num_list[r]:   \n",
    "        max = r   \n",
    "    if max != i:   \n",
    "        swap(i, max)   \n",
    "        heapify(end, max)\n",
    "\n",
    "def heap_sort():     \n",
    "    end = len(num_list)   \n",
    "    start = end // 2 - 1 # use // instead of /\n",
    "    for i in range(start, -1, -1):   \n",
    "        heapify(end, i)   \n",
    "    for i in range(end-1, 0, -1):   \n",
    "        swap(i, 0)   \n",
    "        heapify(i, 0)   \n",
    "\n",
    "num_list = [2,3,6,-12, 7, 1, -2, 75, 5, 3,24,68,200]\n",
    "heap_sort()\n",
    "print(num_list)"
   ]
  },
  {
   "cell_type": "code",
   "execution_count": 17,
   "metadata": {},
   "outputs": [
    {
     "name": "stdout",
     "output_type": "stream",
     "text": [
      "[-12, -2, 1, 2, 3, 3, 5, 6, 7, 24, 68, 75, 200]\n",
      "None\n"
     ]
    }
   ],
   "source": [
    "# selection sort\n",
    "def selection_sort(num_list):\n",
    "    for i in range(len(num_list)):\n",
    "        mini = min(num_list[i:]) \n",
    "        min_index = num_list[i:].index(mini) \n",
    "        num_list[i + min_index] = num_list[i] \n",
    "        num_list[i] = mini                  \n",
    "    print(num_list)\n",
    "    \n",
    "num_list = [2,3,6,-12, 7, 1, -2, 75, 5, 3, 24, 68, 200]\n",
    "print(selection_sort(num_list))"
   ]
  },
  {
   "cell_type": "code",
   "execution_count": 21,
   "metadata": {},
   "outputs": [
    {
     "name": "stdout",
     "output_type": "stream",
     "text": [
      "[-12, -2, 1, 2, 3, 3, 5, 6, 7, 24, 68, 75, 200]\n"
     ]
    }
   ],
   "source": [
    "# Quick sort\n",
    "def quick_sort(arr): \n",
    "     if len(arr) <= 1:\n",
    "          return arr\n",
    "     else:\n",
    "          return quick_sort([x for x in arr[1:] if x<arr[0]]) + [arr[0]] + quick_sort([x for x in arr[1:]if x>=arr[0]])\n",
    "    \n",
    "\n",
    "arr = [2,3,6,-12, 7, 1, -2, 75, 5, 3, 24, 68, 200]\n",
    "print(quick_sort(arr))"
   ]
  },
  {
   "cell_type": "code",
   "execution_count": 27,
   "metadata": {},
   "outputs": [
    {
     "name": "stdout",
     "output_type": "stream",
     "text": [
      "1\n",
      "2\n",
      "8\n",
      "4\n",
      "10\n",
      "7\n",
      "9\n",
      "3\n",
      "12\n",
      "5\n",
      "6\n",
      "11\n",
      "14\n",
      "13\n",
      "15\n"
     ]
    }
   ],
   "source": [
    "# binary tree traverse\n",
    "class Node(object):\n",
    "  def __init__(self, value, left=None, right=None):\n",
    "    self.value = value\n",
    "    self.left = left\n",
    "    self.right = right\n",
    "\n",
    "def traverse(rootnode):\n",
    "  thislevel = [rootnode]\n",
    "  while thislevel:\n",
    "    nextlevel = list()\n",
    "    for n in thislevel:\n",
    "      print(n.value),\n",
    "      if n.left: nextlevel.append(n.left)\n",
    "      if n.right: nextlevel.append(n.right)\n",
    "    print\n",
    "    thislevel = nextlevel\n",
    "\n",
    "t = Node(1, Node(2, Node(4, Node(7, Node(3, Node(5), Node(6)))))\n",
    "         ,Node(8, Node(10, Node(9, Node(12, Node(11, Node(14, Node(13, Node(15)))))))))\n",
    "             \n",
    "\n",
    "traverse(t)"
   ]
  },
  {
   "cell_type": "code",
   "execution_count": null,
   "metadata": {
    "collapsed": true
   },
   "outputs": [],
   "source": []
  }
 ],
 "metadata": {
  "kernelspec": {
   "display_name": "Python 3",
   "language": "python",
   "name": "python3"
  },
  "language_info": {
   "codemirror_mode": {
    "name": "ipython",
    "version": 3
   },
   "file_extension": ".py",
   "mimetype": "text/x-python",
   "name": "python",
   "nbconvert_exporter": "python",
   "pygments_lexer": "ipython3",
   "version": "3.6.1"
  }
 },
 "nbformat": 4,
 "nbformat_minor": 2
}
